{
 "cells": [
  {
   "cell_type": "code",
   "execution_count": 56,
   "id": "ed5d17a4",
   "metadata": {},
   "outputs": [],
   "source": [
    "# 자바 설치는 인터넷 참조 - 자바는 MyBox에 있음.\n",
    "#2024년 08월 05일\n",
    "#자바 버전 확인:\n",
    "#cmd\n",
    "#java -version\n",
    "#javac -version\n",
    "\n",
    "#1.\n",
    "#cmd\n",
    "#pip install jpype1 : java Lib 사용 가능\n",
    "#pip install konlpy"
   ]
  },
  {
   "cell_type": "code",
   "execution_count": null,
   "id": "2eb1521c",
   "metadata": {},
   "outputs": [],
   "source": [
    "import pandas as pd\n",
    "from konlpy.tag import Okt\n",
    "\n",
    "# 텍스트 파일 불러오기\n",
    "with open('blog_contents.txt', 'r', encoding='utf-8') as file:\n",
    "    content = file.read()\n",
    "\n",
    "# 한글 명사 추출\n",
    "hannanum = Hannanum()\n",
    "nouns = hannanum.nouns(content)\n",
    "\n",
    "# 명사를 데이터 프레임으로 변환\n",
    "df_word = pd.DataFrame({'word': nouns})\n",
    "\n",
    "# 결과 확인\n",
    "print(df_word.head())"
   ]
  },
  {
   "cell_type": "code",
   "execution_count": null,
   "id": "f16f87e6",
   "metadata": {},
   "outputs": [],
   "source": [
    "df.columns\n",
    "# 'Image' 열은 drop 하고 'Title' 열의 이름은 'word'로 변경\n",
    "# 'Image' 열 삭제\n",
    "df_word = df.drop(columns=['Image'])\n",
    "# 'Title' 열 이름을 'word'로 변경\n",
    "df_word = df_word.rename(columns={'Title': 'word'})\n",
    "\n",
    "# 변경된 데이터 프레임 출력 (확인용)\n",
    "print(df_word.head())\n"
   ]
  },
  {
   "cell_type": "code",
   "execution_count": null,
   "id": "116157d5",
   "metadata": {},
   "outputs": [],
   "source": [
    "# 데이터 프레임 출력 (확인용)\n",
    "df_word.rename(columns={'Title':'word'})\n",
    "print(df_word['word'].head())\n",
    "print(df_word.head())"
   ]
  },
  {
   "cell_type": "code",
   "execution_count": null,
   "id": "132c8129",
   "metadata": {},
   "outputs": [],
   "source": [
    "# 글자 수 열 추가\n",
    "df_word['count'] = df_word['word'].str.len()\n",
    "df_word"
   ]
  },
  {
   "cell_type": "code",
   "execution_count": null,
   "id": "bd713011",
   "metadata": {},
   "outputs": [],
   "source": [
    "# 두 글자 이상 단어만 남김 - 글자에 의미가 있어야 함.\n",
    "df_word = df_word.query('count >=2')\n",
    "df_word.sort_values('count')"
   ]
  },
  {
   "cell_type": "code",
   "execution_count": null,
   "id": "7181a778",
   "metadata": {},
   "outputs": [],
   "source": [
    "# 단어 빈도 구하기\n",
    "# 단어별 분리\n",
    "# 빈도 구하기\n",
    "# 내림차순 정렬\n",
    "df_word = df_word.groupby('word', as_index = False) \\\n",
    "                 .agg(n = ('word', 'count')) \\\n",
    "                 .sort_values('n', ascending= False)\n",
    "df_word"
   ]
  },
  {
   "cell_type": "code",
   "execution_count": null,
   "id": "7199a424",
   "metadata": {},
   "outputs": [],
   "source": [
    "# 단어 빈도 상위 20개 추출\n",
    "top20 = df_word.head(20)\n",
    "top20"
   ]
  },
  {
   "cell_type": "code",
   "execution_count": null,
   "id": "8344d841",
   "metadata": {},
   "outputs": [],
   "source": [
    "import seaborn as sns\n",
    "import matplotlib.pyplot as plt\n",
    "# 가로 세로 크기 설정  + 폰트\n",
    "plt.rcParams.update({'font.family' : 'Malgun Gothic',\n",
    "                    'figure.dpi'  : '120',\n",
    "                    'figure.figsize' : [6.5, 6]})\n"
   ]
  },
  {
   "cell_type": "code",
   "execution_count": null,
   "id": "a0a847f1",
   "metadata": {},
   "outputs": [],
   "source": [
    "# 막대 그래프 만들기\n",
    "sns.barplot(data = top20, y='word', x='n')"
   ]
  },
  {
   "cell_type": "code",
   "execution_count": null,
   "id": "ec13719f",
   "metadata": {},
   "outputs": [],
   "source": [
    "# pip install wordcloud - cmd에서 실시"
   ]
  },
  {
   "cell_type": "code",
   "execution_count": null,
   "id": "2f697c9a",
   "metadata": {},
   "outputs": [],
   "source": [
    "font = 'malgun.ttf'"
   ]
  },
  {
   "cell_type": "code",
   "execution_count": null,
   "id": "ae1a2c57",
   "metadata": {},
   "outputs": [],
   "source": [
    "# 데이터 프레임을 딕셔너리로 변환\n",
    "dic_word = df_word.set_index('word').to_dict()['n']\n",
    "dic_word"
   ]
  },
  {
   "cell_type": "code",
   "execution_count": null,
   "id": "09556be9",
   "metadata": {},
   "outputs": [],
   "source": [
    "# Word Cloud 만들기\n",
    "from wordcloud import WordCloud"
   ]
  },
  {
   "cell_type": "code",
   "execution_count": null,
   "id": "09df163b",
   "metadata": {},
   "outputs": [],
   "source": [
    "wc = WordCloud(random_state = 1234,          # 난수 고정\n",
    "                font_path = font,             # 폰트 설정\n",
    "                width = 400,                  # 가로 크기\n",
    "                height = 400,                 # 세로 크기\n",
    "                background_color = 'white')   # 배경색"
   ]
  },
  {
   "cell_type": "code",
   "execution_count": null,
   "id": "bda9f952",
   "metadata": {},
   "outputs": [],
   "source": [
    "# 워드 클라우드(wc) 만들기\n",
    "img_wordcloud = wc.generate_from_frequencies(dic_word)\n",
    "\n",
    "# 워드 클라우드(wc) 출력 #\n",
    "plt.figure(figsize=(10,10)) # 가로, 세로 크기 설정\n",
    "plt.axis('off') # 워드 클라우드니까 x축 필요없음. 테두리 선 없애기\n",
    "plt.imshow(img_wordcloud)"
   ]
  },
  {
   "cell_type": "code",
   "execution_count": null,
   "id": "bc3c0e69",
   "metadata": {},
   "outputs": [],
   "source": [
    "# mask 적용 \n",
    "import PIL\n",
    "import PIL.Image\n",
    "icon = PIL.Image.open('d:/data/world.png')"
   ]
  },
  {
   "cell_type": "code",
   "execution_count": null,
   "id": "2801a04d",
   "metadata": {},
   "outputs": [],
   "source": [
    "# png 파일로 mask 생성\n",
    "import numpy as np\n",
    "img = PIL.Image.new('RGB', icon.size, (255,255,255))\n",
    "img.paste(icon, icon)\n",
    "img = np.array(img)"
   ]
  },
  {
   "cell_type": "code",
   "execution_count": null,
   "id": "fe8c31b7",
   "metadata": {},
   "outputs": [],
   "source": [
    "wc = WordCloud(random_state = 1234,          # 난수 고정\n",
    "                font_path = font,             # 폰트 설정\n",
    "                width = 400,                  # 가로 크기\n",
    "                height = 400,                 # 세로 크기\n",
    "                background_color = 'white',   # 배경색\n",
    "                mask = img)"
   ]
  },
  {
   "cell_type": "code",
   "execution_count": null,
   "id": "7664cfa1",
   "metadata": {},
   "outputs": [],
   "source": [
    "# 워드 클라우드 만들기\n",
    "img_wordcloud = wc.generate_from_frequencies(dic_word)\n",
    "\n",
    "# 워드 클라우드 출력 #\n",
    "plt.figure(figsize=(10,10)) # 가로, 세로 크기 설정\n",
    "plt.axis('off') # 테두리 선 없애기\n",
    "plt.imshow(img_wordcloud)"
   ]
  },
  {
   "cell_type": "code",
   "execution_count": null,
   "id": "ca39e67a",
   "metadata": {},
   "outputs": [],
   "source": [
    "# mask 적용   2번째\n",
    "import PIL\n",
    "import PIL.Image\n",
    "icon_2 = PIL.Image.open('d:/data/suitcase.png')\n",
    "\n",
    "##### one-number   idea_light"
   ]
  },
  {
   "cell_type": "code",
   "execution_count": null,
   "id": "c182809e",
   "metadata": {},
   "outputs": [],
   "source": [
    "\n",
    "import numpy as np\n",
    "img_2 = PIL.Image.new('RGB', icon_2.size, (255,255,255))\n",
    "img_2.paste(icon_2, icon_2)\n",
    "img_2 = np.array(img_2)\n",
    "\n"
   ]
  },
  {
   "cell_type": "code",
   "execution_count": null,
   "id": "784a4467",
   "metadata": {},
   "outputs": [],
   "source": [
    "wc2 = WordCloud(random_state = 1234,          # 난수 고정\n",
    "                font_path = font,             # 폰트 설정\n",
    "                width = 400,                  # 가로 크기\n",
    "                height = 400,                 # 세로 크기\n",
    "                background_color = 'white',   # 배경색\n",
    "                mask = img_2)"
   ]
  },
  {
   "cell_type": "code",
   "execution_count": null,
   "id": "a9890245",
   "metadata": {},
   "outputs": [],
   "source": [
    "# 워드 클라우드 만들기\n",
    "img_wordcloud = wc2.generate_from_frequencies(dic_word)\n",
    "\n",
    "# 워드 클라우드 출력 #\n",
    "plt.figure(figsize=(10,10)) # 가로, 세로 크기 설정\n",
    "plt.axis('off') # 테두리 선 없애기\n",
    "plt.imshow(img_wordcloud)"
   ]
  },
  {
   "cell_type": "code",
   "execution_count": null,
   "id": "c1b40691",
   "metadata": {},
   "outputs": [],
   "source": []
  },
  {
   "cell_type": "code",
   "execution_count": null,
   "id": "03730c7e",
   "metadata": {},
   "outputs": [],
   "source": []
  },
  {
   "cell_type": "code",
   "execution_count": null,
   "id": "3a29e7c0",
   "metadata": {},
   "outputs": [],
   "source": []
  }
 ],
 "metadata": {
  "kernelspec": {
   "display_name": "Python 3 (ipykernel)",
   "language": "python",
   "name": "python3"
  }
 },
 "nbformat": 4,
 "nbformat_minor": 5
}
